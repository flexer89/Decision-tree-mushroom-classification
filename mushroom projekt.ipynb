{
 "cells": [
  {
   "cell_type": "code",
   "execution_count": 1,
   "metadata": {},
   "outputs": [],
   "source": [
    "import pandas as pd\n",
    "\n",
    "# Wczytanie danych z pliku CSV do obiektu DataFrame za pomocą biblioteki pandas\n",
    "data = pd.read_csv(\"mushrooms.csv\")"
   ]
  },
  {
   "cell_type": "code",
   "execution_count": 2,
   "metadata": {},
   "outputs": [],
   "source": [
    "from numpy import ndarray\n",
    "\n",
    "def prepare_data_sets(number_of_used_attributes: int) -> list[ndarray, ndarray]:\n",
    "    \"\"\"Prepares data sets (columns/attributes) and labels for testing..\n",
    "\n",
    "    Args:\n",
    "        number_of_used_attributes (int): number of attributes from we'll create datasets.\n",
    "\n",
    "    Returns:\n",
    "        list[ndarray, ndarray]: dataset and target ndarray.\n",
    "    \"\"\"\n",
    "    try:\n",
    "        dataset = data.values[:, 1:number_of_used_attributes]\n",
    "        target = data.values[:, 0]\n",
    "        return dataset, target\n",
    "    except Exception as error:\n",
    "        print(f\"An unexpected error: {error} while preparing data sets.\")"
   ]
  },
  {
   "cell_type": "code",
   "execution_count": 3,
   "metadata": {},
   "outputs": [],
   "source": [
    "attributes: int = 22  # maximum value that we can test.\n",
    "dataset, target = prepare_data_sets(attributes)"
   ]
  },
  {
   "cell_type": "code",
   "execution_count": 4,
   "metadata": {},
   "outputs": [],
   "source": [
    "from sklearn import preprocessing\n",
    "\n",
    "def convert_labels_and_attributes_to_numeric_values(number_of_used_attributes: int, dataset: ndarray, target: ndarray) -> None:\n",
    "    \"\"\"Convert labels (edible/non-edible) and attributes to numeric values using LabelEncoder\n",
    "    \n",
    "    Args:\n",
    "        number_of_used_attributes (int): number of attributes from we'll create datasets.\n",
    "        dataset (ndarray): dataset array.\n",
    "        target (ndarray): target array.\n",
    "    \"\"\"\n",
    "    try:\n",
    "        label_encoder = preprocessing.LabelEncoder()\n",
    "        target = label_encoder.fit_transform(target)\n",
    "        for x in range(0, number_of_used_attributes - 1):\n",
    "            dataset[:, x] = label_encoder.fit_transform(dataset[:, x])\n",
    "    except Exception as error:\n",
    "        print(f\"An unexpected error: {error} while converting labels to numeric values.\")"
   ]
  },
  {
   "cell_type": "code",
   "execution_count": 5,
   "metadata": {},
   "outputs": [],
   "source": [
    "convert_labels_and_attributes_to_numeric_values(attributes, dataset, target)"
   ]
  },
  {
   "cell_type": "code",
   "execution_count": 6,
   "metadata": {},
   "outputs": [],
   "source": [
    "from sklearn.model_selection import train_test_split\n",
    "\n",
    "def splits_data_for_testing(_test_size: float) -> list:\n",
    "    \"\"\"Splits the data into a training set and a test set.\n",
    "\n",
    "    Args:\n",
    "        _test_size (float): proportion of the dataset to include in the train split.\n",
    "\n",
    "    Returns:\n",
    "        list: list of training and testing data and target.\n",
    "    \"\"\"\n",
    "    try:\n",
    "        training_data, testing_data, training_target, testing_target = \\\n",
    "            train_test_split(dataset, target.reshape(-1, 1), test_size=_test_size)\n",
    "        return training_data, testing_data, training_target, testing_target\n",
    "    except Exception as error:\n",
    "        print(f\"An unexpected error: {error} while splitting data for testing.\")"
   ]
  },
  {
   "cell_type": "code",
   "execution_count": 7,
   "metadata": {},
   "outputs": [],
   "source": [
    "training_data, testing_data, training_target, testing_target = \\\n",
    "    splits_data_for_testing(0.1)"
   ]
  },
  {
   "cell_type": "code",
   "execution_count": 8,
   "metadata": {},
   "outputs": [],
   "source": [
    "from sklearn.tree import DecisionTreeClassifier\n",
    "\n",
    "def train_decision_tree_model(_max_depth: int) -> ndarray:\n",
    "    \"\"\"Initializes and trains of the decision tree model.\n",
    "\n",
    "    Args:\n",
    "        _max_depth (int): max depth of the decision tree.\n",
    "\n",
    "    Returns:\n",
    "        ndarray: the predicted class for each sample in X is returned.\n",
    "    \"\"\"\n",
    "    global training_data, training_target, testing_data\n",
    "    try:\n",
    "        decision_tree = DecisionTreeClassifier(criterion='entropy', max_depth=_max_depth)\n",
    "        decision_tree.fit(training_data, training_target)\n",
    "        return decision_tree.predict(testing_data)\n",
    "    except Exception as error:\n",
    "        print(f\"An unexpected error: {error} while training decision tree model.\")"
   ]
  },
  {
   "cell_type": "code",
   "execution_count": 9,
   "metadata": {},
   "outputs": [],
   "source": [
    "decision_predict_tree_array = train_decision_tree_model(8)"
   ]
  },
  {
   "cell_type": "code",
   "execution_count": 10,
   "metadata": {},
   "outputs": [],
   "source": [
    "from sklearn.metrics import confusion_matrix\n",
    "\n",
    "def print_confusion_matrix(decision_predict_tree_array: ndarray) -> None:\n",
    "    \"\"\"Prints confusion matrix.\n",
    "\n",
    "    Args:\n",
    "        decision_predict_tree_array (ndarray): the predicted class for each sample in X is returned.\n",
    "    \"\"\"\n",
    "    try:\n",
    "        print(\"Confusion Matrix:\")\n",
    "        print(f\"{confusion_matrix(testing_target, decision_predict_tree_array)}\\n\")\n",
    "    except Exception as error:\n",
    "        print(f\"An unexpected error: {error} while printing confusion matrix.\")"
   ]
  },
  {
   "cell_type": "code",
   "execution_count": 11,
   "metadata": {},
   "outputs": [],
   "source": [
    "from sklearn.metrics import accuracy_score\n",
    "\n",
    "def print_accuracy_score(decision_predict_tree_array: ndarray) -> None:\n",
    "    \"\"\"Prints accuracy score.\n",
    "\n",
    "    Args:\n",
    "        decision_predict_tree_array (ndarray): the predicted class for each sample in X is returned.\n",
    "    \"\"\"\n",
    "    try:\n",
    "        print(\"Accuracy score:\")\n",
    "        print(accuracy_score(testing_target, decision_predict_tree_array))\n",
    "    except Exception as error:\n",
    "        print(f\"An unexpected error: {error} while printing accuracy score.\")"
   ]
  },
  {
   "cell_type": "code",
   "execution_count": 12,
   "metadata": {},
   "outputs": [],
   "source": [
    "def test_data_accuracy(number_of_used_attributes: int, _test_size: float, _max_depth: int) -> None:\n",
    "    \"\"\"Test data accuracy in case of some variables.\n",
    "\n",
    "    Args:\n",
    "        number_of_used_attributes (int): number of attributes from we'll create datasets.\n",
    "        _test_size (float): proportion of the dataset to include in the train split.\n",
    "        _max_depth (int): max depth of the decision tree.\n",
    "    \"\"\"\n",
    "    try:\n",
    "        dataset, target = prepare_data_sets(number_of_used_attributes)\n",
    "        convert_labels_and_attributes_to_numeric_values(number_of_used_attributes, dataset, target)\n",
    "        training_data, testing_data, training_target, testing_target = \\\n",
    "            splits_data_for_testing(_test_size)\n",
    "        \n",
    "        for _ in range(_max_depth):\n",
    "            print(f\"\\nActual tree max depth: {_max_depth - _}: \\n\")\n",
    "            decision_predict_tree_array = train_decision_tree_model(_max_depth - _)\n",
    "            print_confusion_matrix(decision_predict_tree_array)\n",
    "            print_accuracy_score(decision_predict_tree_array)\n",
    "    except IndexError as index_error:\n",
    "        print(f\"IndexError: {index_error} while testing data.\")\n",
    "    except Exception as error:\n",
    "        print(f\"An unexpected error: {error} while testing data.\")"
   ]
  },
  {
   "cell_type": "code",
   "execution_count": 13,
   "metadata": {},
   "outputs": [
    {
     "name": "stdout",
     "output_type": "stream",
     "text": [
      "\n",
      "Actual tree max depth: 8: \n",
      "\n",
      "Confusion Matrix:\n",
      "[[446   0]\n",
      " [  0 367]]\n",
      "\n",
      "Accuracy score:\n",
      "1.0\n",
      "\n",
      "Actual tree max depth: 7: \n",
      "\n",
      "Confusion Matrix:\n",
      "[[445   1]\n",
      " [  0 367]]\n",
      "\n",
      "Accuracy score:\n",
      "0.998769987699877\n",
      "\n",
      "Actual tree max depth: 6: \n",
      "\n",
      "Confusion Matrix:\n",
      "[[441   5]\n",
      " [  1 366]]\n",
      "\n",
      "Accuracy score:\n",
      "0.992619926199262\n",
      "\n",
      "Actual tree max depth: 5: \n",
      "\n",
      "Confusion Matrix:\n",
      "[[439   7]\n",
      " [  7 360]]\n",
      "\n",
      "Accuracy score:\n",
      "0.982779827798278\n",
      "\n",
      "Actual tree max depth: 4: \n",
      "\n",
      "Confusion Matrix:\n",
      "[[421  25]\n",
      " [ 12 355]]\n",
      "\n",
      "Accuracy score:\n",
      "0.9544895448954489\n",
      "\n",
      "Actual tree max depth: 3: \n",
      "\n",
      "Confusion Matrix:\n",
      "[[421  25]\n",
      " [ 12 355]]\n",
      "\n",
      "Accuracy score:\n",
      "0.9544895448954489\n",
      "\n",
      "Actual tree max depth: 2: \n",
      "\n",
      "Confusion Matrix:\n",
      "[[439   7]\n",
      " [ 49 318]]\n",
      "\n",
      "Accuracy score:\n",
      "0.931119311193112\n",
      "\n",
      "Actual tree max depth: 1: \n",
      "\n",
      "Confusion Matrix:\n",
      "[[446   0]\n",
      " [208 159]]\n",
      "\n",
      "Accuracy score:\n",
      "0.7441574415744158\n"
     ]
    }
   ],
   "source": [
    "test_data_accuracy(22, 0.1, 8)\n",
    "        \n"
   ]
  }
 ],
 "metadata": {
  "kernelspec": {
   "display_name": "Python 3",
   "language": "python",
   "name": "python3"
  },
  "language_info": {
   "codemirror_mode": {
    "name": "ipython",
    "version": 3
   },
   "file_extension": ".py",
   "mimetype": "text/x-python",
   "name": "python",
   "nbconvert_exporter": "python",
   "pygments_lexer": "ipython3",
   "version": "3.11.6"
  }
 },
 "nbformat": 4,
 "nbformat_minor": 2
}
